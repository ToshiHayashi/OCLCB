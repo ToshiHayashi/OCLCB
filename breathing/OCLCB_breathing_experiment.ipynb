{
 "cells": [
  {
   "cell_type": "code",
   "execution_count": 1,
   "id": "431d6f4d",
   "metadata": {},
   "outputs": [],
   "source": [
    "import pandas as pd\n",
    "import numpy as np\n",
    "from matplotlib import pyplot as plt\n",
    "from matplotlib import cm\n",
    "from PIL import Image\n",
    "import glob\n",
    "import os\n",
    "from sklearn.model_selection import train_test_split\n",
    "from sklearn.metrics import jaccard_score,log_loss, mean_absolute_error,median_absolute_error, mean_squared_error\n",
    "%matplotlib inline\n",
    "from tqdm import tqdm\n",
    "import pickle\n",
    "def makefile(what,filename):\n",
    "    with open(filename,\"wb\") as f3:\n",
    "        pickle.dump(what,f3)\n",
    "\n",
    "def readfile(filename):\n",
    "    with open(filename,\"rb\") as f4:\n",
    "        ans=pickle.load(f4)\n",
    "    return ans\n",
    "from sklearn.mixture import GaussianMixture\n",
    "from sklearn.cluster import KMeans\n",
    "from sklearn.linear_model import LinearRegression\n",
    "from sklearn.metrics import jaccard_score,log_loss, mean_absolute_error,median_absolute_error, mean_squared_error\n",
    "from sklearn.metrics import roc_auc_score\n",
    "from sklearn.naive_bayes import CategoricalNB\n",
    "import warnings\n",
    "warnings.filterwarnings('ignore')\n",
    "from sklearn.metrics import accuracy_score\n",
    "from sklearn.metrics import balanced_accuracy_score"
   ]
  },
  {
   "cell_type": "code",
   "execution_count": 12,
   "id": "e4db8d1e",
   "metadata": {},
   "outputs": [],
   "source": [
    "def process(train, name, K, local_size,s1):\n",
    "    x_train=train[0:50000]\n",
    "    dim=s1\n",
    "    training_data=np.array([np.array(x_train[n:n+dim]) for n in range(len(x_train)-(dim-1))])\n",
    "    kmeans=KMeans(n_clusters=K,max_iter=30)\n",
    "    kmeans.fit(training_data)\n",
    "    result=kmeans.predict(training_data)\n",
    "    clusters=np.zeros(K)\n",
    "    for value in result:\n",
    "        clusters[value]+=1\n",
    "    average=clusters/len(result)*(local_size-1)\n",
    "    model_name=\"cluster_model/kmeans_\"+name+\"_K\"+str(K)+\"_D\"+str(s1)+\".pkl\"\n",
    "    proto_name=\"LP/LP_LS\"+str(local_size)+\"_K\"+str(K)+\"_D\"+str(s1)+\"_\"+str(name)+\".pkl\"\n",
    "    makefile(kmeans,model_name)\n",
    "    makefile(average,proto_name)\n",
    "    testing_data=np.array([np.array(train[n:n+dim]) for n in range(len(train)-(dim-1))])\n",
    "    result_test=kmeans.predict(testing_data)\n",
    "    data_test=np.zeros([len(result_test)-(local_size-1),K])\n",
    "    first=0\n",
    "    last=0\n",
    "    for n in range(len(data_test)):\n",
    "        if n==0:\n",
    "            for value in result_test[n:n+local_size]:\n",
    "                first=value\n",
    "                data_test[n][value]+=1\n",
    "        else:\n",
    "            first=result_test[n]\n",
    "            last=result_test[n+(local_size-1)]\n",
    "            data_test[n]=data_test[n-1]\n",
    "            data_test[n][first]-=1\n",
    "            data_test[n][last]+=1\n",
    "            \n",
    "    error=abs(data_test-average).sum(axis=1)\n",
    "    errorname=\"UnseenScore/Error_\"+name+\"_K\"+str(K)+\"_\"+str(local_size)+\"_d\"+str(s1)+\".pkl\"\n",
    "    makefile(error,errorname)"
   ]
  },
  {
   "cell_type": "code",
   "execution_count": 13,
   "id": "90abaedd",
   "metadata": {},
   "outputs": [],
   "source": [
    "\n",
    "\n",
    "v1=[1,3,6,7,8,9,11,13,17]\n",
    "WS=[2,3,4,5,6,7,8,9,10]\n",
    "cl=[2,3,5,10,15,20,25,50]\n",
    "LS=[50,100,500,660,1000,2000,5000,10000]"
   ]
  },
  {
   "cell_type": "code",
   "execution_count": null,
   "id": "3294d01b",
   "metadata": {},
   "outputs": [],
   "source": [
    "for i in v1:\n",
    "    data=np.array(pd.read_csv(\"c\"+str(i)+\".csv\",header=None)[0])\n",
    "    for window_size in WS:\n",
    "        print(window_size)\n",
    "        for K in cl:\n",
    "            for local_size in LS:\n",
    "                process(data,str(i),K,local_size,window_size)"
   ]
  }
 ],
 "metadata": {
  "kernelspec": {
   "display_name": "Python 3",
   "language": "python",
   "name": "python3"
  },
  "language_info": {
   "codemirror_mode": {
    "name": "ipython",
    "version": 3
   },
   "file_extension": ".py",
   "mimetype": "text/x-python",
   "name": "python",
   "nbconvert_exporter": "python",
   "pygments_lexer": "ipython3",
   "version": "3.8.8"
  }
 },
 "nbformat": 4,
 "nbformat_minor": 5
}
